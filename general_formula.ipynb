{
 "cells": [
  {
   "cell_type": "markdown",
   "metadata": {},
   "source": [
    "# This program finds the roots of a quadratic equation"
   ]
  },
  {
   "cell_type": "code",
   "execution_count": 1,
   "metadata": {},
   "outputs": [
    {
     "name": "stdout",
     "output_type": "stream",
     "text": [
      "dataTypes of my coefficients a=<class 'float'>, b=<class 'int'>, c=<class 'int'>\n"
     ]
    }
   ],
   "source": [
    "import math\n",
    "\n",
    "a = 3.6\n",
    "b = 9\n",
    "c = 5\n",
    "\n",
    "print(\"dataTypes of my coefficients a={}, b={}, c={}\".format(type(a),type(b),type(c)))"
   ]
  },
  {
   "cell_type": "code",
   "execution_count": 9,
   "metadata": {},
   "outputs": [],
   "source": [
    "def general_formula(a, b, c):\n",
    "    determinant = b**2 - 4*a*c\n",
    "    if(determinant >= 0):\n",
    "        sol1 = (-b + math.sqrt(determinant))/2*a\n",
    "        sol2 = (-b - math.sqrt(determinant))/2*a\n",
    "        print(\"The equation has two real solution {} and {} \\n\".format(sol1,sol2))\n",
    "    else:\n",
    "        print(\"The equation has non real solution \\n\")"
   ]
  },
  {
   "cell_type": "code",
   "execution_count": 10,
   "metadata": {},
   "outputs": [
    {
     "name": "stdout",
     "output_type": "stream",
     "text": [
      "The equation has two real solution -10.8 and -21.6 \n",
      "\n",
      "The equation has non real solution \n",
      "\n"
     ]
    }
   ],
   "source": [
    "# Identify if the equation has real solution or complex solution.\n",
    "answer_quest = \"yes\"\n",
    "while(answer_quest == \"yes\"):\n",
    "    a, b, c = input(\"Please type the coefficients of your equation: \").split()\n",
    "    a = float(a)\n",
    "    b = float(b)\n",
    "    c = float(c)\n",
    "    general_formula(a, b, c)\n",
    "\n",
    "    answer_quest = input(\"\\nDo you want to keep using the application? \")"
   ]
  },
  {
   "cell_type": "code",
   "execution_count": null,
   "metadata": {},
   "outputs": [],
   "source": [
    "\n",
    "    "
   ]
  }
 ],
 "metadata": {
  "interpreter": {
   "hash": "48537609f0491a4e374724a8864aed50b564b0806a9c311cacb509fc89655065"
  },
  "kernelspec": {
   "display_name": "Python 3.9.7 ('base')",
   "language": "python",
   "name": "python3"
  },
  "language_info": {
   "codemirror_mode": {
    "name": "ipython",
    "version": 3
   },
   "file_extension": ".py",
   "mimetype": "text/x-python",
   "name": "python",
   "nbconvert_exporter": "python",
   "pygments_lexer": "ipython3",
   "version": "3.9.7"
  },
  "orig_nbformat": 4
 },
 "nbformat": 4,
 "nbformat_minor": 2
}
