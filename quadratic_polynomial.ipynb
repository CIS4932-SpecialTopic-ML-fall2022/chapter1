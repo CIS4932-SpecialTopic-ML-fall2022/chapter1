{
 "cells": [
  {
   "cell_type": "code",
   "execution_count": 1,
   "metadata": {},
   "outputs": [],
   "source": [
    "import math as math\n",
    "import numpy as np\n",
    "import matplotlib.pyplot as plt\n",
    "\n",
    "class quadratic_polynomial:\n",
    "\n",
    "    def __init__(self, a, b, c):\n",
    "        self.a = a\n",
    "        self.b = b\n",
    "        self.c = c\n",
    "\n",
    "    def descriminant(self):\n",
    "        return (self.b**2 - 4*self.a*self.c >= 0)    \n",
    "\n",
    "    def general_formula(self):\n",
    "        if(self.descriminant()):\n",
    "            sol1 = (-self.b + math.sqrt(self.b**2 - 4*self.a*self.c))/2*self.a\n",
    "            sol2 = (-self.b - math.sqrt(self.b**2 - 4*self.a*self.c))/2*self.a\n",
    "            print(\"The equation has two real solution {} and {} \\n\".format(sol1,sol2))\n",
    "        else:\n",
    "            print(\"The equation has non real solution \\n\")\n",
    "    def vertex_formula(self):\n",
    "        h = 0\n",
    "        k = 0\n",
    "        if(self.b**2-4*self.a*self.c >=0):\n",
    "            D = math.sqrt(self.b**2-4*self.a*self.c)\n",
    "            h = -self.b/(2*self.a)\n",
    "            k = -D/(4*self.a)\n",
    "        return h, k\n",
    "\n",
    "    def plot_function(self):\n",
    "        # 100 linearly spaced number\n",
    "        x = np.linspace(-20,20,100)\n",
    "\n",
    "        y = self.a*x**2 + self.b*x + self.c\n",
    "\n",
    "        #setting  the axes at the center\n",
    "        fig = plt.figure()\n",
    "        ax = fig.add_subplot(1,1,1)\n",
    "        ax.spines['left'].set_position('center')\n",
    "        ax.spines['bottom'].set_position('zero')\n",
    "        ax.spines['right'].set_position('center')\n",
    "        ax.spines['top'].set_position('center')\n",
    "        ax.xaxis.set_ticks_position('bottom')\n",
    "        ax.yaxis.set_ticks_position('left')\n",
    "        plt.plot(x,y,'r')  \n",
    "\n",
    "    def evaluation(self, x_values):\n",
    "        y_values = np.zeros(len(x_values))\n",
    "        for i in range(len(y_values)):\n",
    "            y_values[i] = self.a*math.pow(x_values[i],2)+self.b*x_values[i]+self.c\n",
    "        return y_values\n"
   ]
  },
  {
   "cell_type": "code",
   "execution_count": 3,
   "metadata": {},
   "outputs": [
    {
     "name": "stdout",
     "output_type": "stream",
     "text": [
      "The equation has two real solution -0.4559962546824696 and -17.544003745317532 \n",
      "\n",
      "\n",
      "The vertex of this quadratic polynomial is (-2.25,-1.068)\n"
     ]
    },
    {
     "data": {
      "image/png": "[encoded data removed]",
      "text/plain": [
       "<Figure size 432x288 with 1 Axes>"
      ]
     },
     "metadata": {
      "needs_background": "light"
     },
     "output_type": "display_data"
    }
   ],
   "source": [
    "answer_quest = \"yes\"\n",
    "while(answer_quest == \"yes\"):\n",
    "    a, b, c = input(\"Please type the coefficients of your equation: \").split()\n",
    "    a = float(a)\n",
    "    b = float(b)\n",
    "    c = float(c)\n",
    "    poly = quadratic_polynomial(a,b,c)\n",
    "    poly.general_formula()\n",
    "    h, k = poly.vertex_formula()\n",
    "    print(\"\\nThe vertex of this quadratic polynomial is ({0:.5},{1:.5})\".format(h,k))\n",
    "    poly.plot_function()\n",
    "    answer_quest = input(\"\\nDo you want to keep using the application? \")"
   ]
  }
 ],
 "metadata": {
  "kernelspec": {
   "display_name": "Python 3.9.7 ('base')",
   "language": "python",
   "name": "python3"
  },
  "language_info": {
   "codemirror_mode": {
    "name": "ipython",
    "version": 3
   },
   "file_extension": ".py",
   "mimetype": "text/x-python",
   "name": "python",
   "nbconvert_exporter": "python",
   "pygments_lexer": "ipython3",
   "version": "3.9.7"
  },
  "orig_nbformat": 4,
  "vscode": {
   "interpreter": {
    "hash": "48537609f0491a4e374724a8864aed50b564b0806a9c311cacb509fc89655065"
   }
  }
 },
 "nbformat": 4,
 "nbformat_minor": 2
}
